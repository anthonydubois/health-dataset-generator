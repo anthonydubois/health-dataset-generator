{
  "metadata" : {
    "config" : {
      "dependencies" : {
        "scala" : [
          "file:///opt/generator/generator-target-eds-jar-with-dependencies.jar",
          "file:///opt/generator/third-party/synthea-with-dependencies.jar"
        ]
      },
      "exclusions" : [
      ],
      "repositories" : [
      ],
      "sparkConfig" : {
        "spark.master" : "local[*]"
      },
      "env" : {
        
      }
    },
    "language_info" : {
      "name" : "scala"
    }
  },
  "nbformat" : 4,
  "nbformat_minor" : 0,
  "cells" : [
    {
      "cell_type" : "markdown",
      "execution_count" : 0,
      "metadata" : {
        "language" : "text"
      },
      "language" : "text",
      "source" : [
        "# SyntheaToEDS\n",
        "\n",
        "\n",
        "This notebook shows how to generate Synthea data and how to translate it to EDS (Entrepôt de Santé) data bundles.\n",
        "\n",
        "\n"
      ],
      "outputs" : [
      ]
    },
    {
      "cell_type" : "code",
      "execution_count" : 1,
      "metadata" : {
        "cell.metadata.exec_info" : {
          "startTs" : 1585988985693,
          "endTs" : 1585989182129
        },
        "language" : "scala"
      },
      "language" : "scala",
      "source" : [
        "// Let's generate a number of patients using the Synthea generator.\n",
        "// The default Synthea modules are used (modules contain\n",
        "// generation rules).\n",
        "import fr.aphp.wind.eds.generator.source.synthea\n",
        "val syntheaBundle = synthea.generate(5)"
      ],
      "outputs" : [
        {
          "name" : "stdout",
          "text" : [
            "Scanned 60 modules and 36 submodules.\n",
            "Loading submodule modules/breast_cancer/tnm_diagnosis.json\n",
            "Loading submodule modules/allergies/allergy_incidence.json\n",
            "Loading submodule modules/dermatitis/moderate_cd_obs.json\n",
            "Loading submodule modules/dermatitis/severe_cd_obs.json\n",
            "Loading submodule modules/contraceptives/female_sterilization.json\n",
            "Loading submodule modules/allergies/outgrow_env_allergies.json\n",
            "Loading submodule modules/lung_cancer/lung_cancer_probabilities.json\n",
            "Loading submodule modules/contraceptives/patch_contraceptive.json\n",
            "Loading submodule modules/allergies/allergy_panel.json\n",
            "Loading submodule modules/breast_cancer/surgery_therapy_breast.json\n",
            "Loading submodule modules/allergies/severe_allergic_reaction.json\n",
            "Loading submodule modules/dermatitis/early_severe_eczema_obs.json\n",
            "Loading submodule modules/total_joint_replacement/functional_status_assessments.json\n",
            "Loading submodule modules/contraceptives/ring_contraceptive.json\n",
            "Loading submodule modules/anemia/anemia_sub.json\n",
            "Loading submodule modules/medications/otc_pain_reliever.json\n",
            "Loading submodule modules/breast_cancer/hormone_diagnosis.json\n",
            "Loading submodule modules/medications/strong_opioid_pain_reliever.json\n",
            "Loading submodule modules/medications/ear_infection_antibiotic.json\n",
            "Loading submodule modules/allergies/immunotherapy.json\n",
            "Loading submodule modules/dermatitis/mid_moderate_eczema_obs.json\n",
            "Loading submodule modules/contraceptives/clear_contraceptive.json\n",
            "Loading submodule modules/surgery/general_anesthesia.json\n",
            "Loading submodule modules/veterans/veteran_suicide_probabilities.json\n",
            "Loading submodule modules/medications/moderate_opioid_pain_reliever.json\n",
            "Loading submodule modules/contraceptives/oral_contraceptive.json\n",
            "Loading submodule modules/medications/otc_antihistamine.json\n",
            "Loading submodule modules/dermatitis/mid_severe_eczema_obs.json\n",
            "Loading submodule modules/dermatitis/early_moderate_eczema_obs.json\n",
            "Loading submodule modules/contraceptives/intrauterine_device.json\n",
            "Loading submodule modules/contraceptives/male_sterilization.json\n",
            "Loading submodule modules/contraceptives/implant_contraceptive.json\n",
            "Loading submodule modules/breast_cancer/hormonetherapy_breast.json\n",
            "Loading submodule modules/contraceptives/injectable_contraceptive.json\n",
            "Loading submodule modules/allergies/outgrow_food_allergies.json\n",
            "Loading submodule modules/breast_cancer/chemotherapy_breast.json\n",
            "Loading module modules/opioid_addiction.json\n",
            "Loading module modules/dialysis.json\n",
            "Loading module modules/allergic_rhinitis.json\n",
            "Loading module modules/pregnancy.json\n",
            "Loading module modules/self_harm.json\n",
            "Loading module modules/atopy.json\n",
            "Loading module modules/asthma.json\n",
            "Loading module modules/ear_infections.json\n",
            "Loading module modules/sinusitis.json\n",
            "Loading module modules/dementia.json\n",
            "Loading module modules/veteran_hyperlipidemia.json\n",
            "Loading module modules/mTBI.json\n",
            "Loading module modules/veteran_prostate_cancer.json\n",
            "Loading module modules/anemia___unknown_etiology.json\n",
            "Loading module modules/urinary_tract_infections.json\n",
            "Loading module modules/hypothyroidism.json\n",
            "Loading module modules/osteoarthritis.json\n",
            "Loading module modules/appendicitis.json\n",
            "Loading module modules/copd.json\n",
            "Loading module modules/contraceptive_maintenance.json\n",
            "Loading module modules/fibromyalgia.json\n",
            "Loading module modules/veteran_substance_abuse_treatment.json\n",
            "Loading module modules/veteran_lung_cancer.json\n",
            "Loading module modules/total_joint_replacement.json\n",
            "Loading module modules/rheumatoid_arthritis.json\n",
            "Loading module modules/sore_throat.json\n",
            "Loading module modules/gallstones.json\n",
            "Loading module modules/bronchitis.json\n",
            "Loading module modules/sexual_activity.json\n",
            "Loading module modules/homelessness.json\n",
            "Loading module modules/epilepsy.json\n",
            "Loading module modules/wellness_encounters.json\n",
            "Loading module modules/injuries.json\n",
            "Loading module modules/colorectal_cancer.json\n",
            "Loading module modules/med_rec.json\n",
            "Loading module modules/congestive_heart_failure.json\n",
            "Loading module modules/veteran_self_harm.json\n",
            "Loading module modules/veteran_mdd.json\n",
            "Loading module modules/lung_cancer.json\n",
            "Loading module modules/contraceptives.json\n",
            "Loading module modules/osteoporosis.json\n",
            "Loading module modules/breast_cancer.json\n",
            "Loading module modules/female_reproduction.json\n",
            "Loading module modules/veteran.json\n",
            "Loading module modules/gout.json\n",
            "Loading module modules/metabolic_syndrome_disease.json\n",
            "Loading module modules/allergies.json\n",
            "Loading module modules/metabolic_syndrome_care.json\n",
            "Loading module modules/lupus.json\n",
            "Loading module modules/cystic_fibrosis.json\n",
            "Loading module modules/attention_deficit_disorder.json\n",
            "Loading module modules/dermatitis.json\n",
            "Loading module modules/food_allergies.json\n",
            "Loading module modules/veteran_ptsd.json\n",
            "Loading module modules/veteran_substance_abuse_conditions.json\n",
            "Loading module modules/hypertension.json\n",
            "Running with options:\n",
            "Population: 5\n",
            "Seed: 1585988993598\n",
            "Provider Seed:1585988993598\n",
            "Location: Massachusetts\n",
            "Min Age: 0\n",
            "Max Age: 140\n",
            "2 -- Benedict104 Schaefer657 (12 y/o M) Boston, Massachusetts \n",
            "3 -- Trey250 Cummerata161 (63 y/o M) East Bridgewater, Massachusetts \n",
            "5 -- Delta800 Boehm581 (47 y/o F) Worcester, Massachusetts \n",
            "4 -- Jerrold404 Bradtke547 (62 y/o M) Brockton, Massachusetts \n",
            "1 -- Juan88 O'Connell601 (80 y/o M) Plymouth, Massachusetts \n",
            "Records: total=5, alive=5, dead=0\n"
          ],
          "output_type" : "stream"
        }
      ]
    },
    {
      "cell_type" : "code",
      "execution_count" : 2,
      "metadata" : {
        "cell.metadata.exec_info" : {
          "startTs" : 1585927200158,
          "endTs" : 1585927204134
        },
        "language" : "scala"
      },
      "language" : "scala",
      "source" : [
        "// Let's count the patients\n",
        "syntheaBundle.patients.count()"
      ],
      "outputs" : [
        {
          "execution_count" : 2,
          "data" : {
            "text/plain" : [
              "5"
            ]
          },
          "metadata" : {
            "name" : "Out",
            "type" : "Long"
          },
          "output_type" : "execute_result"
        }
      ]
    },
    {
      "cell_type" : "code",
      "execution_count" : 3,
      "metadata" : {
        "cell.metadata.exec_info" : {
          "startTs" : 1585927206918,
          "endTs" : 1585927218281
        },
        "language" : "scala"
      },
      "language" : "scala",
      "source" : [
        "// Let's get an EDS bundle from the Synthea bundle\n",
        "import fr.aphp.wind.eds.generator.target.eds._\n",
        "val edsBundle = FromSynthea(syntheaBundle) \n",
        "// Let's validate that the tables have schemas compatible with the EDS\n",
        "// (all the schemas are automatically generated from the table descriptio)sn.\n",
        "edsBundle.validate(allowMissingFields=true).throwOnErrors()"
      ],
      "outputs" : [
      ]
    },
    {
      "cell_type" : "code",
      "execution_count" : 4,
      "metadata" : {
        "cell.metadata.exec_info" : {
          "startTs" : 1585927220829,
          "endTs" : 1585927223952
        },
        "language" : "scala"
      },
      "language" : "scala",
      "source" : [
        "edsBundle.persons.show()"
      ],
      "outputs" : [
        {
          "name" : "stdout",
          "text" : [
            "+-------------------+-----------------+-------------------+--------------+\n",
            "|          person_id|gender_concept_id|     birth_datetime|death_datetime|\n",
            "+-------------------+-----------------+-------------------+--------------+\n",
            "|5318687062932589564|             8532|1964-02-08 00:00:00|          null|\n",
            "|8052569651285488277|             8507|2003-12-03 00:00:00|          null|\n",
            "|4621425714919720823|             8507|1998-11-03 00:00:00|          null|\n",
            "|8677407672435441732|             8507|1982-04-04 00:00:00|          null|\n",
            "|5433578829485951173|             8507|1974-09-27 00:00:00|          null|\n",
            "+-------------------+-----------------+-------------------+--------------+\n",
            "\n"
          ],
          "output_type" : "stream"
        }
      ]
    },
    {
      "cell_type" : "code",
      "execution_count" : 5,
      "metadata" : {
        "cell.metadata.exec_info" : {
          "startTs" : 1585927227558,
          "endTs" : 1585927235732
        },
        "language" : "scala"
      },
      "language" : "scala",
      "source" : [
        "// This is how the names are converted to observations. Feel free to peek\n",
        "// in /op/generator/generator-target-eds/src/main/scala/fr/aphp/wind/eds/generator/target/eds/FromSynthea.scala\n",
        "// for more examples.\n",
        "import java.util.UUID\n",
        "import org.apache.spark.sql.functions._\n",
        "import spark.implicits._\n",
        "\n",
        "// User-Defined SQL function that casts a UUID as generated by Synthea into\n",
        "// an OMOP-compatible ID.\n",
        "val omopId = udf((stringId: String) => {\n",
        "    math.abs(UUID.fromString(stringId).getLeastSignificantBits)\n",
        "})\n",
        "\n",
        "val df = syntheaBundle.patients\n",
        "Map(\"first\" -> 3042942L, \"last\" -> 3046810L, \"ssn\" -> 398093005L)\n",
        "    .map { case (syntheaColumn, conceptId) =>\n",
        "    df.select(\"id\", syntheaColumn)\n",
        "        .where('first.isNotNull)\n",
        "        .withColumn(\"observation_concept_id\", typedLit(conceptId))\n",
        "        .withColumn(\"person_id\", omopId('id))\n",
        "        .withColumnRenamed(syntheaColumn, \"value_as_string\")\n",
        "        .drop(\"id\")\n",
        "    }\n",
        "    .reduce {\n",
        "        _ union _\n",
        "    }.show()"
      ],
      "outputs" : [
        {
          "name" : "stdout",
          "text" : [
            "+---------------+----------------------+-------------------+\n",
            "|value_as_string|observation_concept_id|          person_id|\n",
            "+---------------+----------------------+-------------------+\n",
            "|    Mechelle851|               3042942|5318687062932589564|\n",
            "|       Arden380|               3042942|8052569651285488277|\n",
            "|     Ignacio928|               3042942|4621425714919720823|\n",
            "|      Lucien408|               3042942|8677407672435441732|\n",
            "|    Jermaine675|               3042942|5433578829485951173|\n",
            "|      Durgan499|               3046810|5318687062932589564|\n",
            "|    Hermiston71|               3046810|8052569651285488277|\n",
            "|      Duarte203|               3046810|4621425714919720823|\n",
            "|       Huels583|               3046810|8677407672435441732|\n",
            "|     Watsica258|               3046810|5433578829485951173|\n",
            "|    999-69-9983|             398093005|5318687062932589564|\n",
            "|    999-43-3332|             398093005|8052569651285488277|\n",
            "|    999-99-1974|             398093005|4621425714919720823|\n",
            "|    999-94-5337|             398093005|8677407672435441732|\n",
            "|    999-53-7615|             398093005|5433578829485951173|\n",
            "+---------------+----------------------+-------------------+\n",
            "\n"
          ],
          "output_type" : "stream"
        }
      ]
    }
  ]
}